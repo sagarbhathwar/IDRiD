{
 "cells": [
  {
   "cell_type": "markdown",
   "metadata": {},
   "source": [
    "### Install software packages on google colab"
   ]
  },
  {
   "cell_type": "code",
   "execution_count": null,
   "metadata": {
    "colab": {
     "base_uri": "https://localhost:8080/",
     "height": 2040
    },
    "colab_type": "code",
    "id": "94NmIWX2qJ4G",
    "outputId": "6e7225e2-0c58-4ed0-d296-66700d4eece0"
   },
   "outputs": [],
   "source": [
    "!apt-get install -y -qq software-properties-common python-software-properties module-init-tools\n",
    "!add-apt-repository -y ppa:alessandro-strada/ppa 2>&1 > /dev/null\n",
    "!apt-get update -qq 2>&1 > /dev/null\n",
    "!apt-get -y install -qq google-drive-ocamlfuse fuse\n",
    "from google.colab import auth\n",
    "auth.authenticate_user()\n",
    "from oauth2client.client import GoogleCredentials\n",
    "creds = GoogleCredentials.get_application_default()\n",
    "import getpass\n",
    "!google-drive-ocamlfuse -headless -id={creds.client_id} -secret={creds.client_secret} < /dev/null 2>&1 | grep URL\n",
    "vcode = getpass.getpass()\n",
    "!echo {vcode} | google-drive-ocamlfuse -headless -id={creds.client_id} -secret={creds.client_secret}"
   ]
  },
  {
   "cell_type": "code",
   "execution_count": null,
   "metadata": {
    "colab": {},
    "colab_type": "code",
    "id": "HXZc0rG0zEaY"
   },
   "outputs": [],
   "source": [
    "!mkdir -p drive\n",
    "!google-drive-ocamlfuse drive"
   ]
  },
  {
   "cell_type": "markdown",
   "metadata": {},
   "source": [
    "### Pre-processed images using `preprocess.py`"
   ]
  },
  {
   "cell_type": "code",
   "execution_count": null,
   "metadata": {
    "colab": {
     "base_uri": "https://localhost:8080/",
     "height": 119
    },
    "colab_type": "code",
    "executionInfo": {
     "elapsed": 608664,
     "status": "ok",
     "timestamp": 1523039807905,
     "user": {
      "displayName": "Sagar B Hathwar",
      "photoUrl": "//lh5.googleusercontent.com/-LRMRQrNDlN0/AAAAAAAAAAI/AAAAAAAAF-U/d9fiMjCnf_U/s50-c-k-no/photo.jpg",
      "userId": "118373288748895854925"
     },
     "user_tz": -330
    },
    "id": "8j743a29qsRM",
    "outputId": "1ea2daea-9a1c-497c-8b08-c07fb1656a48"
   },
   "outputs": [
    {
     "name": "stdout",
     "output_type": "stream",
     "text": [
      "Copied training data\n",
      "Copied test data\n",
      "Copied IDRiD data\n",
      "Extracted training data\n",
      "Extracted test data\n",
      "Extracted IDRiD data\n"
     ]
    }
   ],
   "source": [
    "!cp drive/EyePACS/train.zip .\n",
    "print('Copied training data')\n",
    "!cp drive/EyePACS/test.zip .\n",
    "print('Copied test data')\n",
    "!cp drive/EyePACS/IDRiD.zip .\n",
    "print('Copied IDRiD data')\n",
    "!unzip -qq train.zip\n",
    "print('Extracted training data')\n",
    "!unzip -qq test.zip\n",
    "print('Extracted test data')\n",
    "!unzip -qq IDRiD.zip\n",
    "print('Extracted IDRiD data')"
   ]
  },
  {
   "cell_type": "markdown",
   "metadata": {},
   "source": [
    "### Load last checkpoint(Change the file to the one under `model` folder)\n",
    "\n",
    "- Train and test data are from EyePACS - https://www.kaggle.com/c/diabetic-retinopathy-detection\n",
    "- IDRiD is from - https://idrid.grand-challenge.org/"
   ]
  },
  {
   "cell_type": "code",
   "execution_count": null,
   "metadata": {
    "colab": {},
    "colab_type": "code",
    "id": "lzqj0biCUge8"
   },
   "outputs": [],
   "source": [
    "!cp drive/EyePACS/weights-05-0.8792-0.355479.hdf5 .\n",
    "!mv weights-05-0.8792-0.355479.hdf5 model.hdf5"
   ]
  },
  {
   "cell_type": "code",
   "execution_count": null,
   "metadata": {
    "colab": {},
    "colab_type": "code",
    "id": "yf0KbSzYrVWC"
   },
   "outputs": [],
   "source": [
    "!rm IDRiD.zip\n",
    "!rm train.zip\n",
    "!rm test.zip"
   ]
  },
  {
   "cell_type": "markdown",
   "metadata": {},
   "source": [
    "### Code for training and testing/inference"
   ]
  },
  {
   "cell_type": "code",
   "execution_count": null,
   "metadata": {
    "colab": {
     "base_uri": "https://localhost:8080/",
     "height": 34
    },
    "colab_type": "code",
    "executionInfo": {
     "elapsed": 9783,
     "status": "ok",
     "timestamp": 1523039835113,
     "user": {
      "displayName": "Sagar B Hathwar",
      "photoUrl": "//lh5.googleusercontent.com/-LRMRQrNDlN0/AAAAAAAAAAI/AAAAAAAAF-U/d9fiMjCnf_U/s50-c-k-no/photo.jpg",
      "userId": "118373288748895854925"
     },
     "user_tz": -330
    },
    "id": "1BGPNwq-sKxG",
    "outputId": "8ad455f1-655b-4f38-bafb-ca114c12da69"
   },
   "outputs": [
    {
     "name": "stderr",
     "output_type": "stream",
     "text": [
      "Using TensorFlow backend.\n"
     ]
    }
   ],
   "source": [
    "import os\n",
    "\n",
    "import numpy as np\n",
    "from keras.callbacks import Callback\n",
    "from keras.callbacks import ReduceLROnPlateau, ModelCheckpoint, CSVLogger\n",
    "from keras.optimizers import SGD, Adam\n",
    "from keras.preprocessing.image import ImageDataGenerator\n",
    "from keras.applications import Xception\n",
    "from keras.models import load_model\n",
    "from keras.models import Model\n",
    "from keras.layers import Dense\n",
    "\n",
    "from skimage.io import imread\n",
    "from sklearn.metrics import confusion_matrix\n",
    "from sklearn.metrics import accuracy_score\n",
    "from sklearn.metrics import cohen_kappa_score\n",
    "from sklearn.metrics import roc_auc_score"
   ]
  },
  {
   "cell_type": "code",
   "execution_count": null,
   "metadata": {
    "colab": {},
    "colab_type": "code",
    "id": "aqclUuetslZH"
   },
   "outputs": [],
   "source": [
    "def get_test_data(directory):\n",
    "    dirs = os.listdir(directory)\n",
    "    images = []\n",
    "    labels = []\n",
    "\n",
    "    for d in dirs:\n",
    "        files = os.listdir(os.path.join(directory, d))\n",
    "        images += [np.float32(imread(os.path.join(directory, d, f))) / 255 for f in files]\n",
    "        labels += [int(d)] * len(files)\n",
    "\n",
    "    return np.array(images), np.array(labels)\n",
    "\n",
    "\n",
    "x_test, y_test = get_test_data('IDRiD')\n",
    "y_test_bin = y_test.copy()\n",
    "y_test_bin[y_test != 0] = 1"
   ]
  },
  {
   "cell_type": "code",
   "execution_count": null,
   "metadata": {
    "colab": {},
    "colab_type": "code",
    "id": "1mT9ipw0smgF"
   },
   "outputs": [],
   "source": [
    "class MetricsCallback(Callback):\n",
    "  \n",
    "  def __init__(self, logs={}):\n",
    "    self._data = []\n",
    "    \n",
    "\n",
    "    def on_epoch_end(self, epoch, logs=None):\n",
    "        filename = 'drive/EyePACS/confusion_matrix_' + str(epoch) + '.txt'\n",
    "        \n",
    "        y_pred = self.model.predict(x_test)\n",
    "        y_pred = np.argmax(y_pred, axis=1)\n",
    "        y_pred_bin = y_pred.copy()\n",
    "        y_pred_bin[y_pred != 0] = 1\n",
    "        \n",
    "        print('Accuracy on IDRiD: ', accuracy_score(y_test, y_pred))\n",
    "        print('Kappa score: ', cohen_kappa_score(y_test, y_pred, weights='quadratic'))\n",
    "        \n",
    "        tn, fp, fn, tp = confusion_matrix(y_test_bin, y_pred_bin).ravel()\n",
    "        print('Sensitivity: ', tp/(tp+fn))\n",
    "        print('Specificity: ', tn/(tn+fp))\n",
    "        print('ROC AUC: ', roc_auc_score(y_test_bin, y_pred_bin))\n",
    "        \n",
    "        cm = confusion_matrix(y_test, y_pred)\n",
    "        print(cm)\n",
    "        np.savetxt(filename, cm)\n",
    "\n",
    "        \n",
    "class EarlyStopCallback(Callback):\n",
    "\n",
    "    def __init__(self, monitor='acc', value=0.9, verbose=0):\n",
    "        super(Callback, self).__init__()\n",
    "        self.monitor = monitor\n",
    "        self.value = value\n",
    "        self.verbose = verbose\n",
    "\n",
    "    def on_epoch_end(self, epoch, logs=None):\n",
    "        current = logs.get(self.monitor)\n",
    "\n",
    "        if current >= self.value:\n",
    "            self.model.save('drive/EyePACS/resnet34_model1.h5py')\n",
    "            self.model.stop_training = True"
   ]
  },
  {
   "cell_type": "code",
   "execution_count": null,
   "metadata": {
    "colab": {},
    "colab_type": "code",
    "id": "8uRq3qS2snlv"
   },
   "outputs": [],
   "source": [
    "# Reduce learning rate if loss doesn't fall after 1 epoch\n",
    "reduce_lr = ReduceLROnPlateau(patience=1, factor=0.8, min_lr=0.00005)\n",
    "\n",
    "# Save result of each epoch\n",
    "logger = CSVLogger('drive/EyePACS/epoch_log.csv')\n",
    "\n",
    "# Save model every 5 epochs. Approximately 100mb per model\n",
    "checkpoint_filepath = \"drive/EyePACS/weights-{epoch:02d}-{acc:.4f}-{loss:.6f}.hdf5\"\n",
    "checkpoint = ModelCheckpoint(checkpoint_filepath, verbose=1, period=1)\n",
    "\n",
    "metrics = MetricsCallback()"
   ]
  },
  {
   "cell_type": "code",
   "execution_count": null,
   "metadata": {
    "colab": {
     "base_uri": "https://localhost:8080/",
     "height": 51
    },
    "colab_type": "code",
    "executionInfo": {
     "elapsed": 3542,
     "status": "ok",
     "timestamp": 1523039846977,
     "user": {
      "displayName": "Sagar B Hathwar",
      "photoUrl": "//lh5.googleusercontent.com/-LRMRQrNDlN0/AAAAAAAAAAI/AAAAAAAAF-U/d9fiMjCnf_U/s50-c-k-no/photo.jpg",
      "userId": "118373288748895854925"
     },
     "user_tz": -330
    },
    "id": "jRZ9t4SzsriK",
    "outputId": "020194a2-d027-41b7-e62c-6e49d2ff6a11"
   },
   "outputs": [
    {
     "name": "stdout",
     "output_type": "stream",
     "text": [
      "Found 35126 images belonging to 5 classes.\n",
      "Found 8441 images belonging to 5 classes.\n"
     ]
    }
   ],
   "source": [
    "batch_size = 8\n",
    "epochs = 5\n",
    "\n",
    "# Takes care of data augmentation\n",
    "train_gen = ImageDataGenerator(rescale=1.0 / 255,\n",
    "                               rotation_range=360,\n",
    "                               shear_range=np.pi / 12,\n",
    "                               zoom_range=0.2,\n",
    "                               fill_mode='constant',\n",
    "                               horizontal_flip=True,\n",
    "                               vertical_flip=True)\n",
    "\n",
    "train_generator = train_gen.flow_from_directory('train',\n",
    "                                                target_size=(512, 512),\n",
    "                                                batch_size=batch_size)\n",
    "\n",
    "test_gen = ImageDataGenerator(rescale=1.0 / 255)\n",
    "\n",
    "test_generator = test_gen.flow_from_directory('test',\n",
    "                                              target_size=(512, 512),\n",
    "                                              batch_size=batch_size)"
   ]
  },
  {
   "cell_type": "code",
   "execution_count": null,
   "metadata": {
    "colab": {
     "base_uri": "https://localhost:8080/",
     "height": 34
    },
    "colab_type": "code",
    "executionInfo": {
     "elapsed": 18313,
     "status": "ok",
     "timestamp": 1523039865309,
     "user": {
      "displayName": "Sagar B Hathwar",
      "photoUrl": "//lh5.googleusercontent.com/-LRMRQrNDlN0/AAAAAAAAAAI/AAAAAAAAF-U/d9fiMjCnf_U/s50-c-k-no/photo.jpg",
      "userId": "118373288748895854925"
     },
     "user_tz": -330
    },
    "id": "qJr-e8h5strS",
    "outputId": "18b0b780-f644-4e39-a5f6-94537057b355"
   },
   "outputs": [
    {
     "name": "stdout",
     "output_type": "stream",
     "text": [
      "Model found\n"
     ]
    }
   ],
   "source": [
    "if not os.path.exists('model.hdf5'):\n",
    "    print('Model file not found. Initializing new model')\n",
    "    model = Xception(pooling='avg')\n",
    "\n",
    "    im_input = model.input\n",
    "    model.layers.pop()\n",
    "    m = Dense(5, activation='softmax')(model.layers[-1].output)\n",
    "    model = Model(input=im_input, outputs=m)\n",
    "\n",
    "    optimizer = Adam(0.0003)\n",
    "    model.compile(optimizer=optimizer, loss='categorical_crossentropy',\n",
    "                  metrics=['accuracy'])\n",
    "else:\n",
    "    print('Model found')\n",
    "    model = load_model('model.hdf5')"
   ]
  },
  {
   "cell_type": "code",
   "execution_count": null,
   "metadata": {
    "colab": {
     "base_uri": "https://localhost:8080/",
     "height": 761
    },
    "colab_type": "code",
    "executionInfo": {
     "elapsed": 7486451,
     "status": "error",
     "timestamp": 1523047351787,
     "user": {
      "displayName": "Sagar B Hathwar",
      "photoUrl": "//lh5.googleusercontent.com/-LRMRQrNDlN0/AAAAAAAAAAI/AAAAAAAAF-U/d9fiMjCnf_U/s50-c-k-no/photo.jpg",
      "userId": "118373288748895854925"
     },
     "user_tz": -330
    },
    "id": "bx7a748sswwy",
    "outputId": "3c0ae7e7-a149-48de-e4bc-7c3b3952ab52"
   },
   "outputs": [],
   "source": [
    "model.fit_generator(train_generator,\n",
    "                    epochs=epochs,\n",
    "                    steps_per_epoch=35126 // batch_size,\n",
    "                    validation_data=test_generator,\n",
    "                    validation_steps=8114 // batch_size,\n",
    "                    callbacks=[checkpoint, reduce_lr, logger,\n",
    "                               metrics])"
   ]
  },
  {
   "cell_type": "code",
   "execution_count": null,
   "metadata": {
    "colab": {},
    "colab_type": "code",
    "id": "2Nalpd3jfY0w"
   },
   "outputs": [],
   "source": [
    "    "
   ]
  }
 ],
 "metadata": {
  "accelerator": "GPU",
  "colab": {
   "collapsed_sections": [],
   "name": "xception transfer learning.ipynb",
   "provenance": [],
   "toc_visible": true,
   "version": "0.3.2"
  },
  "kernelspec": {
   "display_name": "Python 3",
   "language": "python",
   "name": "python3"
  },
  "language_info": {
   "codemirror_mode": {
    "name": "ipython",
    "version": 3
   },
   "file_extension": ".py",
   "mimetype": "text/x-python",
   "name": "python",
   "nbconvert_exporter": "python",
   "pygments_lexer": "ipython3",
   "version": "3.8.8"
  }
 },
 "nbformat": 4,
 "nbformat_minor": 4
}
